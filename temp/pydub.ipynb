{
 "cells": [
  {
   "cell_type": "code",
   "execution_count": 1,
   "source": [
    "# we cannot perform any operation on mp3 files as they are compressed\n",
    "# so we use pydub to convert mp3 to wav and then process it\n",
    "# get path and filename of mp3\n",
    "# use pydub to get audio segment from file\n",
    "# audiosegment is like a list with both channels waveform interwined\n",
    "\n"
   ],
   "outputs": [],
   "metadata": {}
  },
  {
   "cell_type": "code",
   "execution_count": 2,
   "source": [
    "import os\n",
    "from pydub import AudioSegment\n",
    "from pydub.utils import audioop\n",
    "import numpy as np"
   ],
   "outputs": [],
   "metadata": {}
  },
  {
   "cell_type": "code",
   "execution_count": 20,
   "source": [
    "mp3_dir = \"mp3/\"\n",
    "for filename in os.listdir(mp3_dir):\n",
    "    if filename.endswith(\".mp3\"):\n",
    "        filepath = mp3_dir+filename\n",
    "        print(filepath)\n",
    "        audiofile = AudioSegment.from_file(filepath)\n",
    "        audiofile = audiofile[4*1000:4*1000+10] # 4s to 4.01s data\n",
    "        \n",
    "        data = np.fromstring(audiofile._data, np.int16) # channels are interwined 1 2 1 2 1 2\n",
    "        \n",
    "        channels = []\n",
    "        # loop to seperate channel data into individual list\n",
    "\n",
    "        for chn in range(audiofile.channels):\n",
    "            channels.append(data[chn::audiofile.channels]) # audiofile.channels is used as setp in list range, end is not given so it reads till end, first channel will start reading from 0th index, 2nd channel will start reading from first index, and alternate elements will be appended in each\n",
    "        \n",
    "        print (len(data))\n",
    "        print(\"###################\")\n",
    "        print(audiofile.frame_rate) # Returns 441 for 10 ms, for 1 sec, len(channels[0]) = len(channels[0]) = 44100 = sample rate\n",
    "        # this implies we are getting waveform of song in each channel"
   ],
   "outputs": [
    {
     "output_type": "stream",
     "name": "stdout",
     "text": [
      "mp3/11 - Lost In The Echo.mp3\n",
      "882\n",
      "###################\n",
      "44100\n"
     ]
    },
    {
     "output_type": "stream",
     "name": "stderr",
     "text": [
      "/tmp/ipykernel_99499/2639730693.py:9: DeprecationWarning: The binary mode of fromstring is deprecated, as it behaves surprisingly on unicode inputs. Use frombuffer instead\n",
      "  data = np.fromstring(audiofile._data, np.int16) # channels are interwined 1 2 1 2 1 2\n"
     ]
    }
   ],
   "metadata": {}
  },
  {
   "cell_type": "code",
   "execution_count": 21,
   "source": [
    "data = [[] for i in range(2)]\n",
    "print(data)"
   ],
   "outputs": [
    {
     "output_type": "stream",
     "name": "stdout",
     "text": [
      "[[], []]\n"
     ]
    }
   ],
   "metadata": {}
  },
  {
   "cell_type": "code",
   "execution_count": 22,
   "source": [
    "## Pyaudio use below"
   ],
   "outputs": [],
   "metadata": {}
  },
  {
   "cell_type": "code",
   "execution_count": 40,
   "source": [],
   "outputs": [
    {
     "output_type": "stream",
     "name": "stdout",
     "text": [
      "4096\n"
     ]
    }
   ],
   "metadata": {}
  }
 ],
 "metadata": {
  "orig_nbformat": 4,
  "language_info": {
   "name": "python",
   "version": "3.9.7",
   "mimetype": "text/x-python",
   "codemirror_mode": {
    "name": "ipython",
    "version": 3
   },
   "pygments_lexer": "ipython3",
   "nbconvert_exporter": "python",
   "file_extension": ".py"
  },
  "kernelspec": {
   "name": "python3",
   "display_name": "Python 3.9.7 64-bit ('venv': venv)"
  },
  "interpreter": {
   "hash": "09d619b7d2b4a2b70bcc15c06fd540daed131903d046764c0de1e056505f35a2"
  }
 },
 "nbformat": 4,
 "nbformat_minor": 2
}